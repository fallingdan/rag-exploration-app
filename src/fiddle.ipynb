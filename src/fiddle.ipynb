{
 "cells": [
  {
   "cell_type": "code",
   "execution_count": 4,
   "metadata": {},
   "outputs": [],
   "source": [
    "import app.utils.dataset_utils as dataset_utils\n",
    "\n",
    "dataset_utils.retrieve_dataset(dataset_path=\"../dataset\")"
   ]
  },
  {
   "cell_type": "code",
   "execution_count": 1,
   "metadata": {},
   "outputs": [],
   "source": [
    "from app.utils.vectordb import VectorDb\n",
    "\n",
    "vectordb = VectorDb()\n",
    "\n",
    "document = \"Test\"\n",
    "id = \"id1\"\n",
    "metadata = {\"test\": \"test\"}\n",
    "\n",
    "vectordb.add_document(\n",
    "    document=document,\n",
    "    id=id,\n",
    "    metadata=metadata\n",
    ")"
   ]
  }
 ],
 "metadata": {
  "kernelspec": {
   "display_name": "venv",
   "language": "python",
   "name": "python3"
  },
  "language_info": {
   "codemirror_mode": {
    "name": "ipython",
    "version": 3
   },
   "file_extension": ".py",
   "mimetype": "text/x-python",
   "name": "python",
   "nbconvert_exporter": "python",
   "pygments_lexer": "ipython3",
   "version": "3.12.3"
  }
 },
 "nbformat": 4,
 "nbformat_minor": 2
}
