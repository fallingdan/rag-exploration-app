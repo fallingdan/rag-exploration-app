{
 "cells": [
  {
   "cell_type": "code",
   "execution_count": null,
   "metadata": {},
   "outputs": [
    {
     "name": "stdout",
     "output_type": "stream",
     "text": [
      "{'ids': [['dataset/python-3.12-docs-text/whatsnew/2.0.txt.74', 'dataset/python-3.12-docs-text/whatsnew/2.0.txt.86', 'dataset/python-3.12-docs-text/tutorial/datastructures.txt.34', 'dataset/python-3.12-docs-text/tutorial/datastructures.txt.29', 'dataset/python-3.12-docs-text/reference/expressions.txt.45', 'dataset/python-3.12-docs-text/whatsnew/2.0.txt.93', 'dataset/python-3.12-docs-text/tutorial/datastructures.txt.49', 'dataset/python-3.12-docs-text/tutorial/datastructures.txt.28', 'dataset/python-3.12-docs-text/howto/functional.txt.92', 'dataset/python-3.12-docs-text/reference/expressions.txt.44', 'dataset/python-3.12-docs-text/reference/expressions.txt.57', 'dataset/python-3.12-docs-text/whatsnew/2.0.txt.75', 'dataset/python-3.12-docs-text/reference/expressions.txt.48', 'dataset/python-3.12-docs-text/tutorial/datastructures.txt.46', 'dataset/python-3.12-docs-text/howto/functional.txt.98', 'dataset/python-3.12-docs-text/reference/expressions.txt.33', 'dataset/python-3.12-docs-text/reference/datamodel.txt.82', 'dataset/python-3.12-docs-text/whatsnew/3.0.txt.21', 'dataset/python-3.12-docs-text/reference/expressions.txt.29', 'dataset/python-3.12-docs-text/whatsnew/2.7.txt.135', 'dataset/python-3.12-docs-text/library/dis.txt.95', 'dataset/python-3.12-docs-text/library/ast.txt.156', 'dataset/python-3.12-docs-text/reference/expressions.txt.31', 'dataset/python-3.12-docs-text/faq/design.txt.99', 'dataset/python-3.12-docs-text/howto/functional.txt.88', 'dataset/python-3.12-docs-text/tutorial/index.txt.18', 'dataset/python-3.12-docs-text/whatsnew/2.0.txt.81', 'dataset/python-3.12-docs-text/library/2to3.txt.71', 'dataset/python-3.12-docs-text/reference/expressions.txt.30', 'dataset/python-3.12-docs-text/reference/expressions.txt.47']], 'embeddings': None, 'documents': [['List Comprehensions\\n===================', 'To make the semantics very clear, a list comprehension is equivalent\\nto the following Python code:', 'A list comprehension consists of brackets containing an expression\\nfollowed by a \"for\" clause, then zero or more \"for\" or \"if\" clauses.\\nThe result will be a new list resulting from evaluating the expression', 'List comprehensions provide a concise way to create lists. Common\\napplications are to make new lists where each element is the result of\\nsome operations applied to each member of another sequence or', 'from left to right and placed into the list object in that order.\\nWhen a comprehension is supplied, the list is constructed from the\\nelements resulting from the comprehension.', 'The idea of list comprehensions originally comes from the functional\\nprogramming language Haskell (https://www.haskell.org).  Greg Ewing\\nargued most effectively for adding them to Python and wrote the', 'As we saw in the previous section, the inner list comprehension is\\nevaluated in the context of the \"for\" that follows it, so this example\\nis equivalent to:', '5.1.3. List Comprehensions\\n--------------------------', 'Again, for a list comprehension only the outside brackets are\\ndifferent (square brackets instead of parentheses).', 'A list display yields a new list object, the contents being specified\\nby either a list of expressions or a comprehension.  When a comma-\\nseparated list of expressions is supplied, its elements are evaluated', 'A dict comprehension, in contrast to list and set comprehensions,\\nneeds two expressions separated with a colon followed by the usual\\n\"for\" and \"if\" clauses. When the comprehension is run, the resulting', 'Lists are a workhorse data type in Python, and many programs\\nmanipulate a list at some point.  Two common operations on lists are\\nto loop over them, and either pick out the elements that meet a', 'are evaluated from left to right and added to the set object.  When a\\ncomprehension is supplied, the set is constructed from the elements\\nresulting from the comprehension.', '5.1.4. Nested List Comprehensions\\n---------------------------------\\n\\nThe initial expression in a list comprehension can be any arbitrary\\nexpression, including another list comprehension.', 'To put it another way, a list comprehension or generator expression is\\nequivalent to the following Python code:', 'However, aside from the iterable expression in the leftmost \"for\"\\nclause, the comprehension is executed in a separate implicitly nested\\nscope. This ensures that names assigned to in the target list don\\'t\\n\"leak\" into the enclosing scope.', 'Lists\\n   The items of a list are arbitrary Python objects.  Lists are formed\\n   by placing a comma-separated list of expressions in square\\n   brackets. (Note that there are no special cases needed to form\\n   lists of length 0 or 1.)', 'often to use a list comprehension (especially when the original code\\n  uses \"lambda\"), or rewriting the code so it doesn\\'t need a list at\\n  all.  Particularly tricky is \"map()\" invoked for the side effects of', '* either the container contents are listed explicitly, or\\n\\n* they are computed via a set of looping and filtering instructions,\\n  called a *comprehension*.\\n\\nCommon syntax elements for comprehensions are:', '* Dictionary and set comprehensions are another feature backported\\n  from 3.x, generalizing list/generator comprehensions to use the\\n  literal syntax for sets and dictionaries.', 'Used to implement list comprehensions.\\n\\nMAP_ADD(i)\\n\\n   Implements:\\n\\n      value = STACK.pop()\\n      key = STACK.pop()\\n      dict.__setitem__(STACK[-i], key, value)\\n\\n   Used to implement dict comprehensions.\\n\\n   Added in version 3.1.', 'List and set comprehensions, generator expressions, and dictionary\\n   comprehensions. \"elt\" (or \"key\" and \"value\") is a single node\\n   representing the part that will be evaluated for each item.\\n\\n   \"generators\" is a list of \"comprehension\" nodes.', 'The comprehension consists of a single expression followed by at least\\none \"for\" clause and zero or more \"for\" or \"if\" clauses. In this case,\\nthe elements of the new container are those that would be produced by', 'How are lists implemented in CPython?\\n=====================================', \"not needing to materialize all the values at once.  This means that\\nlist comprehensions aren't useful if you're working with iterators\\nthat return an infinite stream or a very large amount of data.\\nGenerator expressions are preferable in these situations.\", '* 5.1.4. Nested List Comprehensions\\n\\n  * 5.2. The \"del\" statement\\n\\n  * 5.3. Tuples and Sequences\\n\\n  * 5.4. Sets\\n\\n  * 5.5. Dictionaries\\n\\n  * 5.6. Looping Techniques\\n\\n  * 5.7. More on Conditions\\n\\n  * 5.8. Comparing Sequences and Other Types', 'Because of Python\\'s scoping rules, a default argument is used so that\\nthe anonymous function created by the \"lambda\" expression knows what\\nsubstring is being searched for.  List comprehensions make this\\ncleaner:', 'paren\\n\\n   Add extra parenthesis where they are required in list\\n   comprehensions.  For example, \"[x for x in 1, 2]\" becomes \"[x for x\\n   in (1, 2)]\".\\n\\nprint\\n\\n   Converts the \"print\" statement to the \"print()\" function.\\n\\nraise', 'comprehension ::= assignment_expression comp_for\\n   comp_for      ::= [\"async\"] \"for\" target_list \"in\" or_test [comp_iter]\\n   comp_iter     ::= comp_for | comp_if\\n   comp_if       ::= \"if\" or_test [comp_iter]', 'A set display yields a new mutable set object, the contents being\\nspecified by either a sequence of expressions or a comprehension.\\nWhen a comma-separated list of expressions is supplied, its elements']], 'uris': None, 'data': None, 'metadatas': [[None, None, None, None, None, None, None, None, None, None, None, None, None, None, None, None, None, None, None, None, None, None, None, None, None, None, None, None, None, None]], 'distances': [[0.3153797686100006, 0.31641915440559387, 0.33339813351631165, 0.37917619943618774, 0.4747770130634308, 0.5132865309715271, 0.5175825357437134, 0.5185567736625671, 0.5634276866912842, 0.5854882597923279, 0.5947773456573486, 0.6011057496070862, 0.6261008977890015, 0.6327567100524902, 0.6452852487564087, 0.6655400395393372, 0.6828547716140747, 0.7179036140441895, 0.7352659702301025, 0.8019253611564636, 0.8064037561416626, 0.8128969669342041, 0.8191527128219604, 0.8214643597602844, 0.8308116793632507, 0.8324177861213684, 0.8385499119758606, 0.8453583717346191, 0.846511721611023, 0.846798300743103]], 'included': [<IncludeEnum.distances: 'distances'>, <IncludeEnum.documents: 'documents'>, <IncludeEnum.metadatas: 'metadatas'>]}\n"
     ]
    }
   ],
   "source": [
    "import pandas as pd\n",
    "from app.utils.vectordb import VectorDb\n",
    "import json\n",
    "\n",
    "vectordb = VectorDb(persist_path=\"../chromadb\")\n",
    "\n",
    "results = vectordb.retrieve_results(\n",
    "    query=\"How does a list comprehension work\",\n",
    "    n_results=30\n",
    ")\n",
    "\n",
    "print(json.dumps(results, indent=4))"
   ]
  }
 ],
 "metadata": {
  "kernelspec": {
   "display_name": "venv",
   "language": "python",
   "name": "python3"
  },
  "language_info": {
   "codemirror_mode": {
    "name": "ipython",
    "version": 3
   },
   "file_extension": ".py",
   "mimetype": "text/x-python",
   "name": "python",
   "nbconvert_exporter": "python",
   "pygments_lexer": "ipython3",
   "version": "3.12.3"
  }
 },
 "nbformat": 4,
 "nbformat_minor": 2
}
